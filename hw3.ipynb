{
 "cells": [
  {
   "cell_type": "markdown",
   "metadata": {},
   "source": [
    "1. Write a JavaScript function that reverse a number. \n",
    "Example x = 32243;\n",
    "Expected Output: 34223 \n"
   ]
  },
  {
   "cell_type": "code",
   "execution_count": 1,
   "metadata": {},
   "outputs": [],
   "source": [
    "function reverse(num) {\n",
    "  let myString = num.toString();\n",
    "  myString = myString.split(\"\").reverse().join(\"\"); //reverse\n",
    "  let res = Number(myString);\n",
    "  return res;\n",
    "}\n"
   ]
  },
  {
   "cell_type": "code",
   "execution_count": 2,
   "metadata": {},
   "outputs": [
    {
     "name": "stdout",
     "output_type": "stream",
     "text": [
      "34223\n"
     ]
    }
   ],
   "source": [
    "x = 32243;\n",
    "console.log(reverse(x));\n"
   ]
  },
  {
   "cell_type": "markdown",
   "metadata": {},
   "source": [
    "2. Write a JavaScript function that checks whether a passed string is palindrome or not? A palindrome is word, phrase, or sequence that reads the same backward as forward, e.g., madam or nurses run."
   ]
  },
  {
   "cell_type": "code",
   "execution_count": 3,
   "metadata": {},
   "outputs": [],
   "source": [
    "function isPalindrome(s) {\n",
    "  let left = 0;\n",
    "  let right = s.length - 1;\n",
    "  while (left < right) {\n",
    "    while (left < right && s[left] === \" \") {\n",
    "      left++;\n",
    "    }\n",
    "    while (left < right && s[right] === \" \") {\n",
    "      right--;\n",
    "    }\n",
    "    if (s[left] !== s[right]) {\n",
    "      return false;\n",
    "    }\n",
    "    left++;\n",
    "    right--;\n",
    "  }\n",
    "  return true;\n",
    "}\n"
   ]
  },
  {
   "cell_type": "code",
   "execution_count": 4,
   "metadata": {},
   "outputs": [
    {
     "name": "stdout",
     "output_type": "stream",
     "text": [
      "true\n",
      "true\n",
      "false\n"
     ]
    }
   ],
   "source": [
    "console.log(isPalindrome(\"madam\"));\n",
    "console.log(isPalindrome(\"nurses run\"));\n",
    "console.log(isPalindrome(\"tree\"));\n"
   ]
  },
  {
   "cell_type": "markdown",
   "metadata": {},
   "source": [
    "3. Write a JavaScript function that generates all combinations of a string. \n",
    "Example string: 'dog' \n",
    "Expected Output: d, do, dog, o, og, g \n"
   ]
  },
  {
   "cell_type": "code",
   "execution_count": 5,
   "metadata": {},
   "outputs": [],
   "source": [
    "function allSubstrings(s) {\n",
    "  let res = [];\n",
    "  for (let i = 0; i < s.length; i++) {\n",
    "    var temp = s[i];\n",
    "    res.push(temp);\n",
    "    for (let j = i + 1; j < s.length; j++) {\n",
    "      temp += s[j];\n",
    "      res.push(temp);\n",
    "    }\n",
    "  }\n",
    "  return res;\n",
    "}\n"
   ]
  },
  {
   "cell_type": "code",
   "execution_count": 6,
   "metadata": {},
   "outputs": [
    {
     "name": "stdout",
     "output_type": "stream",
     "text": [
      "[ 'd', 'do', 'dog', 'o', 'og', 'g' ]\n"
     ]
    }
   ],
   "source": [
    "console.log(allSubstrings(\"dog\"));\n"
   ]
  },
  {
   "cell_type": "markdown",
   "metadata": {},
   "source": [
    "4. Write a JavaScript function that returns a passed string with letters in alphabetical order. \n",
    "Example string: 'webmaster' \n",
    "Expected Output: 'abeemrstw'\n",
    "Assume punctuation and numbers symbols are not included in the passed string.\n"
   ]
  },
  {
   "cell_type": "code",
   "execution_count": 7,
   "metadata": {},
   "outputs": [],
   "source": [
    "function sortString(s) {\n",
    "  return s.split(\"\").sort().join(\"\");\n",
    "}\n"
   ]
  },
  {
   "cell_type": "code",
   "execution_count": 8,
   "metadata": {},
   "outputs": [
    {
     "name": "stdout",
     "output_type": "stream",
     "text": [
      "abeemrstw\n"
     ]
    }
   ],
   "source": [
    "console.log(sortString(\"webmaster\"));\n"
   ]
  },
  {
   "cell_type": "markdown",
   "metadata": {},
   "source": [
    "5. Write a JavaScript function that accepts a string as a parameter and converts the first letter of each word of the string in upper case. \n",
    "Example string: 'the quick brown fox' \n",
    "Expected Output: 'The Quick Brown Fox '\n"
   ]
  },
  {
   "cell_type": "code",
   "execution_count": 9,
   "metadata": {},
   "outputs": [],
   "source": [
    "//string is imputable\n",
    "function fixUpperCase(s){\n",
    "    let list = s.split(\" \")\n",
    "    var tempt = \"\"\n",
    "    for (let i in list){\n",
    "        tempt = list[i].split(\"\")\n",
    "        tempt[0] = tempt[0].toUpperCase()\n",
    "        list[i] = tempt.join(\"\")\n",
    "    }\n",
    "    return list.join(\" \")\n",
    "}"
   ]
  },
  {
   "cell_type": "code",
   "execution_count": 10,
   "metadata": {},
   "outputs": [
    {
     "name": "stdout",
     "output_type": "stream",
     "text": [
      "The Quick Brown Fox\n"
     ]
    }
   ],
   "source": [
    "console.log(fixUpperCase(\"the quick brown fox\"))"
   ]
  },
  {
   "cell_type": "markdown",
   "metadata": {},
   "source": [
    "6. Write a JavaScript function that accepts a string as a parameter and find the longest word within the string. \n",
    "Example string: 'Web Development Tutorial' \n",
    "Expected Output: 'Development'\n"
   ]
  },
  {
   "cell_type": "code",
   "execution_count": 11,
   "metadata": {},
   "outputs": [],
   "source": [
    "function longestWord(s) {\n",
    "  if (s === \"\" || s === null || s === undefined) {\n",
    "    return \"Check input again\";\n",
    "  }\n",
    "  let maxCount = 0;\n",
    "  let longestIndex = 0;\n",
    "  let words = s.split(\" \");\n",
    "  for (let i in words) {\n",
    "    if (maxCount < words[i].length) {\n",
    "      maxCount = words[i].length;\n",
    "      longestIndex = i;\n",
    "    }\n",
    "  }\n",
    "  return words[longestIndex];\n",
    "}\n"
   ]
  },
  {
   "cell_type": "code",
   "execution_count": 12,
   "metadata": {},
   "outputs": [
    {
     "name": "stdout",
     "output_type": "stream",
     "text": [
      "Development\n",
      "Check input again\n"
     ]
    }
   ],
   "source": [
    "console.log(longestWord(\"Web Development Tutorial\"));\n",
    "console.log(longestWord(\"\"));\n"
   ]
  },
  {
   "cell_type": "markdown",
   "metadata": {},
   "source": [
    "7. Write a JavaScript function that accepts a string as a parameter and counts the number of vowels within the string. \n",
    "Note: As the letter 'y' can be regarded as both a vowel and a consonant, we do not count 'y' as vowel here. \n",
    "Example string: 'The quick brown fox' \n",
    "Expected Output: 5\n"
   ]
  },
  {
   "cell_type": "code",
   "execution_count": 13,
   "metadata": {},
   "outputs": [],
   "source": [
    "function countVowels(s) {\n",
    "  const vowels = new Set([\"a\", \"e\", \"i\", \"o\", \"u\"]);\n",
    "  let count = 0;\n",
    "  for (let c of s) {\n",
    "    if (vowels.has(c)) {\n",
    "      count++;\n",
    "    }\n",
    "  }\n",
    "  return count;\n",
    "}\n"
   ]
  },
  {
   "cell_type": "code",
   "execution_count": 14,
   "metadata": {},
   "outputs": [
    {
     "name": "stdout",
     "output_type": "stream",
     "text": [
      "5\n"
     ]
    }
   ],
   "source": [
    "console.log(countVowels(\"The quick brown fox\"));"
   ]
  },
  {
   "cell_type": "markdown",
   "metadata": {},
   "source": [
    "8. Write a JavaScript function that accepts a number as a parameter and check the number is prime or not. \n",
    "Note: A prime number (or a prime) is a natural number greater than 1 that has no positive divisors other than 1 and itself.\n"
   ]
  },
  {
   "cell_type": "code",
   "execution_count": 15,
   "metadata": {},
   "outputs": [],
   "source": [
    "function isPrime(num){\n",
    "    let sqrt = Math.sqrt(num)\n",
    "    for (let i = 1; i<=sqrt;i++){\n",
    "        if (num%i==0 && i!=1 && i!=num){\n",
    "            return false\n",
    "        }\n",
    "    }\n",
    "    return true\n",
    "}"
   ]
  },
  {
   "cell_type": "code",
   "execution_count": 16,
   "metadata": {},
   "outputs": [
    {
     "name": "stdout",
     "output_type": "stream",
     "text": [
      "true\n",
      "true\n",
      "true\n",
      "false\n"
     ]
    }
   ],
   "source": [
    "console.log(isPrime(83))\n",
    "console.log(isPrime(2))\n",
    "console.log(isPrime(293))\n",
    "console.log(isPrime(24))"
   ]
  },
  {
   "cell_type": "markdown",
   "metadata": {},
   "source": [
    "9. Write a JavaScript function which accepts an argument and returns the type. \n",
    "Note: There are six possible values that typeof returns: object, boolean, function, number, string, and undefined.\n",
    "\n"
   ]
  },
  {
   "cell_type": "code",
   "execution_count": 17,
   "metadata": {},
   "outputs": [],
   "source": [
    "function checkType(s){\n",
    "    return typeof(s)\n",
    "}"
   ]
  },
  {
   "cell_type": "code",
   "execution_count": 18,
   "metadata": {},
   "outputs": [
    {
     "name": "stdout",
     "output_type": "stream",
     "text": [
      "string\n",
      "number\n",
      "boolean\n",
      "object\n",
      "object\n",
      "undefined\n",
      "function\n"
     ]
    }
   ],
   "source": [
    "console.log(checkType(\"code\"));\n",
    "console.log(checkType(123));\n",
    "console.log(checkType(1 == 2));\n",
    "console.log(checkType([1, 2, 3]));\n",
    "console.log(checkType({ name: \"john\", age: 20 }));\n",
    "var i;\n",
    "console.log(checkType(i));\n",
    "const plus1 = (x) => {\n",
    "  x + 1;\n",
    "};\n",
    "console.log(checkType(plus1));\n"
   ]
  },
  {
   "cell_type": "markdown",
   "metadata": {},
   "source": [
    "10. Write a JavaScript function which returns the n rows by n columns identity matrix. "
   ]
  },
  {
   "cell_type": "code",
   "execution_count": 19,
   "metadata": {},
   "outputs": [],
   "source": [
    "function identityMatrix(n) {\n",
    "  let myArray = Array.from(Array(n), _ => Array(n).fill(0));\n",
    "  for (let i = 0; i < n; i++) {\n",
    "    myArray[i][i] = 1;\n",
    "  }\n",
    "  return myArray;\n",
    "}\n"
   ]
  },
  {
   "cell_type": "code",
   "execution_count": 20,
   "metadata": {},
   "outputs": [
    {
     "name": "stdout",
     "output_type": "stream",
     "text": [
      "[ [ 1, 0, 0, 0 ], [ 0, 1, 0, 0 ], [ 0, 0, 1, 0 ], [ 0, 0, 0, 1 ] ]\n"
     ]
    }
   ],
   "source": [
    "console.log(identityMatrix(4));"
   ]
  },
  {
   "cell_type": "markdown",
   "metadata": {},
   "source": [
    "11. Write a JavaScript function which will take an array of numbers stored and find the second lowest and second greatest numbers, respectively. \n",
    "Sample array: [1,2,3,4,5]\n",
    "Expected Output: 2,4 \n"
   ]
  },
  {
   "cell_type": "code",
   "execution_count": 21,
   "metadata": {},
   "outputs": [],
   "source": [
    "function find2ndMinMax(arr){\n",
    "    let maxNum = -Infinity, secondMax = -Infinity\n",
    "    let minNum = Infinity, secondMin = Infinity\n",
    "    for(let a of arr){\n",
    "        if(a>maxNum){\n",
    "            let tempt = maxNum\n",
    "            maxNum = a\n",
    "            secondMax = tempt\n",
    "        }else if(a < maxNum && a>secondMax){\n",
    "            secondMax = a\n",
    "        }\n",
    "        if(a<minNum){\n",
    "            let tempt2 = minNum\n",
    "            minNum = a\n",
    "            secondMin = tempt2\n",
    "        }else if(a>minNum && a <secondMin){\n",
    "            secondMin = a\n",
    "        }\n",
    "    }\n",
    "    if (secondMax===-Infinity || secondMin===Infinity){\n",
    "        return \"second max or second min doesn't exist.\"\n",
    "    }\n",
    "    return [secondMin, secondMax]\n",
    "}\n",
    " "
   ]
  },
  {
   "cell_type": "code",
   "execution_count": 22,
   "metadata": {},
   "outputs": [
    {
     "name": "stdout",
     "output_type": "stream",
     "text": [
      "[ 2, 4 ]\n"
     ]
    }
   ],
   "source": [
    "console.log(find2ndMinMax([1,2,3,4,5]))"
   ]
  },
  {
   "cell_type": "markdown",
   "metadata": {},
   "source": [
    "12. Write a JavaScript function which says whether a number is perfect. \n",
    "According to Wikipedia: In number theory, a perfect number is a positive integer that is equal to the sum of its proper positive divisors, that is, the sum of its positive divisors excluding the number itself (also known as its aliquot sum). Equivalently, a perfect number is a number that is half the sum of all of its positive divisors (including itself).\n",
    "Example: The first perfect number is 6, because 1, 2, and 3 are its proper positive divisors, and 1 + 2 + 3 = 6. Equivalently, the number 6 is equal to half the sum of all its positive divisors: ( 1 + 2 + 3 + 6 ) / 2 = 6. The next perfect number is 28 = 1 + 2 + 4 + 7 + 14. This is followed by the perfect numbers 496 and 8128.\n"
   ]
  },
  {
   "cell_type": "code",
   "execution_count": 23,
   "metadata": {},
   "outputs": [],
   "source": [
    "function perfectNumber(num) {\n",
    "    let sqrt = Math.sqrt(num);\n",
    "    let factors = [1];\n",
    "    for (let i = 2; i <= sqrt; i++) {\n",
    "      if (num % i == 0) {\n",
    "        factors.push(i);\n",
    "        if (i != num / i) {\n",
    "          factors.push(num / i);\n",
    "        }\n",
    "      }\n",
    "    }\n",
    "    // console.log(factors)\n",
    "    const factor_sum = factors.reduce((acc, curr) => acc+curr, 0);\n",
    "    if (num === factor_sum) return true;\n",
    "    else return false;\n",
    "}"
   ]
  },
  {
   "cell_type": "code",
   "execution_count": 24,
   "metadata": {},
   "outputs": [
    {
     "name": "stdout",
     "output_type": "stream",
     "text": [
      "true\n",
      "false\n",
      "true\n"
     ]
    }
   ],
   "source": [
    "console.log(perfectNumber(28))\n",
    "console.log(perfectNumber(296))\n",
    "console.log(perfectNumber(496))"
   ]
  },
  {
   "cell_type": "markdown",
   "metadata": {},
   "source": [
    "13. Write a JavaScript function to compute the factors of a positive integer. "
   ]
  },
  {
   "cell_type": "code",
   "execution_count": 25,
   "metadata": {},
   "outputs": [],
   "source": [
    "function findFactors(num) {\n",
    "  let sqrt = Math.sqrt(num);\n",
    "  let res = [];\n",
    "  for (let i = 0; i <= sqrt; i++) {\n",
    "    if (num % i == 0) {\n",
    "      res.push(i);\n",
    "      if (i != num / i) {\n",
    "        res.push(num / i);\n",
    "      }\n",
    "    }\n",
    "  }\n",
    "  return res.sort((a, b) => a - b);\n",
    "}\n"
   ]
  },
  {
   "cell_type": "code",
   "execution_count": 26,
   "metadata": {},
   "outputs": [
    {
     "name": "stdout",
     "output_type": "stream",
     "text": [
      "[\n",
      "   1,  2,  3,  4,  5,\n",
      "   6, 10, 12, 15, 20,\n",
      "  30, 60\n",
      "]\n"
     ]
    }
   ],
   "source": [
    "console.log(findFactors(60));"
   ]
  },
  {
   "cell_type": "markdown",
   "metadata": {},
   "source": [
    "14. Write a JavaScript function to convert an amount to coins. \n",
    "Sample function: amountTocoins(46, [25, 10, 5, 2, 1])\n",
    "Here 46 is the amount. and 25, 10, 5, 2, 1 are coins. \n",
    "Output: 25, 10, 10, 1\n"
   ]
  },
  {
   "cell_type": "code",
   "execution_count": 27,
   "metadata": {},
   "outputs": [],
   "source": [
    "function calCoins(amount, coins) {\n",
    "    coins.sort((a,b) => b-a);\n",
    "    const res = [];\n",
    "    coins.forEach((coin) => {\n",
    "        while(amount >= coin) {\n",
    "            res.push(coin);\n",
    "            amount -= coin;\n",
    "        }\n",
    "    });\n",
    "    return res;\n",
    "}"
   ]
  },
  {
   "cell_type": "code",
   "execution_count": 28,
   "metadata": {},
   "outputs": [
    {
     "name": "stdout",
     "output_type": "stream",
     "text": [
      "[ 25, 10, 10, 1 ]\n"
     ]
    }
   ],
   "source": [
    "console.log(calCoins(46,[25, 10, 5, 2, 1]))"
   ]
  },
  {
   "cell_type": "markdown",
   "metadata": {},
   "source": [
    "15. Write a JavaScript function to compute the value of bn where n is the exponent and b is the bases. Accept b and n from the user and display the result. "
   ]
  },
  {
   "cell_type": "code",
   "execution_count": 29,
   "metadata": {},
   "outputs": [],
   "source": [
    "function exponent(b, n) {\n",
    "    let res = 1;\n",
    "    const positiveExponent = Math.abs(n);\n",
    "    for (let i = 0; i < positiveExponent; i++) {\n",
    "      res *= b;\n",
    "    }\n",
    "    // If exponent is negative, return the reciprocal\n",
    "    return n < 0 ? 1 / res : res;\n",
    "  }\n"
   ]
  },
  {
   "cell_type": "code",
   "execution_count": 30,
   "metadata": {},
   "outputs": [
    {
     "name": "stdout",
     "output_type": "stream",
     "text": [
      "8\n",
      "0.0625\n"
     ]
    }
   ],
   "source": [
    "console.log(exponent(2,3))\n",
    "console.log(exponent(4,-2))"
   ]
  },
  {
   "cell_type": "markdown",
   "metadata": {},
   "source": [
    "16. Write a JavaScript function to extract unique characters from a string. \n",
    "Example string: \"thequickbrownfoxjumpsoverthelazydog\"\n",
    "Expected Output: \"thequickbrownfxjmpsvlazydg\"\n"
   ]
  },
  {
   "cell_type": "code",
   "execution_count": 31,
   "metadata": {},
   "outputs": [],
   "source": [
    "function extractCharacters(s){\n",
    "    let set = new Set()\n",
    "    let myString = \"\"\n",
    "    for (let c of s){\n",
    "        if (!set.has(c)){\n",
    "            myString+=c\n",
    "            set.add(c)\n",
    "        }\n",
    "    }\n",
    "    return myString\n",
    "}"
   ]
  },
  {
   "cell_type": "code",
   "execution_count": 32,
   "metadata": {},
   "outputs": [
    {
     "name": "stdout",
     "output_type": "stream",
     "text": [
      "thequickbrownfxjmpsvlazydg\n"
     ]
    }
   ],
   "source": [
    "console.log(extractCharacters(\"thequickbrownfoxjumpsoverthelazydog\"))"
   ]
  },
  {
   "cell_type": "markdown",
   "metadata": {},
   "source": [
    "17. Write a JavaScript function to get the number of occurrences of each letter in specified string. "
   ]
  },
  {
   "cell_type": "code",
   "execution_count": 33,
   "metadata": {},
   "outputs": [],
   "source": [
    "function countFrequency(s) {\n",
    "  let map = new Map();\n",
    "  if (s === \"\" || s === null || s === undefined) {\n",
    "    return \"Check input again\";\n",
    "  }\n",
    "  for (let c of s) {\n",
    "    if (map.has(c)) {\n",
    "      map.set(c, map.get(c) + 1);\n",
    "    } else {\n",
    "      map.set(c, 1);\n",
    "    }\n",
    "  }\n",
    "  return map;\n",
    "}\n"
   ]
  },
  {
   "cell_type": "code",
   "execution_count": 34,
   "metadata": {},
   "outputs": [
    {
     "name": "stdout",
     "output_type": "stream",
     "text": [
      "Map(6) { 'h' => 2, 'a' => 2, 'p' => 4, 'y' => 1, ' ' => 1, 'i' => 1 }\n",
      "Check input again\n"
     ]
    }
   ],
   "source": [
    "console.log(countFrequency(\"happy happi\"))\n",
    "console.log(countFrequency(null))"
   ]
  },
  {
   "cell_type": "markdown",
   "metadata": {},
   "source": [
    "18. Write a function for searching JavaScript arrays with a binary search. "
   ]
  },
  {
   "cell_type": "code",
   "execution_count": 35,
   "metadata": {},
   "outputs": [],
   "source": [
    "function binary(target, arr) {\n",
    "  arr.sort((a,b) => a-b)\n",
    "  let left = 0;\n",
    "  let right = arr.length-1;\n",
    "  while (left <= right) {\n",
    "      let mid = Math.floor((left+right)/2);\n",
    "      if (target < arr[mid]) {\n",
    "          right = mid-1;\n",
    "      } else if (target > arr[mid]) {\n",
    "          left = mid+1;\n",
    "      } else {\n",
    "          return mid;\n",
    "      }\n",
    "  }\n",
    "  return -1;\n",
    "}"
   ]
  },
  {
   "cell_type": "code",
   "execution_count": 36,
   "metadata": {},
   "outputs": [
    {
     "name": "stdout",
     "output_type": "stream",
     "text": [
      "2\n"
     ]
    }
   ],
   "source": [
    "console.log(binary(5,[1,2,5,8,9]))"
   ]
  },
  {
   "cell_type": "markdown",
   "metadata": {},
   "source": [
    "19. Write a JavaScript function that returns array elements larger than a number. "
   ]
  },
  {
   "cell_type": "code",
   "execution_count": 37,
   "metadata": {},
   "outputs": [],
   "source": [
    "function largerElements(arr,num){\n",
    "    let res = []\n",
    "    for(let i of arr){\n",
    "        if (i > num){\n",
    "            res.push(i)\n",
    "        }\n",
    "    }\n",
    "    return res\n",
    "}"
   ]
  },
  {
   "cell_type": "code",
   "execution_count": 38,
   "metadata": {},
   "outputs": [
    {
     "name": "stdout",
     "output_type": "stream",
     "text": [
      "[ 5, 10, 12 ]\n"
     ]
    }
   ],
   "source": [
    "console.log(largerElements([1,2,3,4,5,10,12], 4))"
   ]
  },
  {
   "cell_type": "markdown",
   "metadata": {},
   "source": [
    "20. Write a JavaScript function that generates a string id (specified length) of random characters. \n",
    "Sample character list: \"ABCDEFGHIJKLMNOPQRSTUVWXYZabcdefghijklmnopqrstuvwxyz0123456789\"\n"
   ]
  },
  {
   "cell_type": "code",
   "execution_count": 39,
   "metadata": {},
   "outputs": [],
   "source": [
    "function randomString(len) {\n",
    "    const chars = 'ABCDEFGHIJKLMNOPQRSTUVWXYZabcdefghijklmnopqrstuvwxyz0123456789';\n",
    "    let res = '';\n",
    "    for (let i=0; i<len; i++){\n",
    "        res += chars[Math.floor(Math.random() * chars.length)];\n",
    "    }\n",
    "    return res;\n",
    "}"
   ]
  },
  {
   "cell_type": "code",
   "execution_count": 40,
   "metadata": {},
   "outputs": [
    {
     "name": "stdout",
     "output_type": "stream",
     "text": [
      "qEyJD\n"
     ]
    }
   ],
   "source": [
    "console.log(randomString(5))"
   ]
  },
  {
   "cell_type": "markdown",
   "metadata": {},
   "source": [
    "21. Write a JavaScript function to get all possible subset with a fixed length (for example 2) combinations in an array. \n",
    "Sample array: [1, 2, 3] and subset length is 2 \n",
    "Expected output: [[2, 1], [3, 1], [3, 2]]\n"
   ]
  },
  {
   "cell_type": "code",
   "execution_count": 41,
   "metadata": {},
   "outputs": [],
   "source": [
    "function subset(arr, len) {\n",
    "    const res = [];\n",
    "    function backtrack(i, curr) {\n",
    "        if (curr.length == len) {\n",
    "            res.push(curr);\n",
    "            return;\n",
    "        }\n",
    "        for (let j=i; j<arr.length; j++){\n",
    "            curr.push(arr[j]);\n",
    "            backtrack(j+1, [...curr]);\n",
    "            curr.pop();\n",
    "        }\n",
    "    }\n",
    "    backtrack(0, []);\n",
    "    for (l of res){\n",
    "        l.sort((a, b) => b - a)\n",
    "    }\n",
    "    return res\n",
    "}"
   ]
  },
  {
   "cell_type": "code",
   "execution_count": 42,
   "metadata": {},
   "outputs": [
    {
     "name": "stdout",
     "output_type": "stream",
     "text": [
      "[ [ 2, 1 ], [ 3, 1 ], [ 3, 2 ] ]\n"
     ]
    }
   ],
   "source": [
    "console.log(subset([1,2,3],2))"
   ]
  },
  {
   "cell_type": "markdown",
   "metadata": {},
   "source": [
    "22. Write a JavaScript function that accepts two arguments, a string and a letter and the function will count the number of occurrences of the specified letter within the string. \n",
    "Sample arguments: 'microsoft.com', 'o' \n",
    "Expected output: 3 \n"
   ]
  },
  {
   "cell_type": "code",
   "execution_count": 43,
   "metadata": {},
   "outputs": [
    {
     "name": "stdout",
     "output_type": "stream",
     "text": [
      "3\n"
     ]
    }
   ],
   "source": [
    "function countLetterOccurrences(str, letter) {\n",
    "    let count = 0;\n",
    "    for (let i = 0; i < str.length; i++) {\n",
    "      if (str[i] === letter) {\n",
    "        count++;\n",
    "      }\n",
    "    }\n",
    "    return count;\n",
    "  }\n",
    "  console.log(countLetterOccurrences('microsoft.com', 'o'));\n",
    "  "
   ]
  },
  {
   "cell_type": "markdown",
   "metadata": {},
   "source": [
    "23. Write a JavaScript function to find the first not repeated character. \n",
    "Sample arguments: 'abacddbec' \n",
    "Expected output: 'e' \n"
   ]
  },
  {
   "cell_type": "code",
   "execution_count": 44,
   "metadata": {},
   "outputs": [],
   "source": [
    "function firstUnqiueCharacter(s){\n",
    "    let map = new Map()\n",
    "    for(let i in s){\n",
    "        if(!map.has(s[i])){\n",
    "            map.set(s[i],1)\n",
    "        }else{\n",
    "            map.set(s[i],map.get(s[i])+1)\n",
    "        }\n",
    "    }\n",
    "    // console.log(map)\n",
    "\n",
    "    for (let char of s) {\n",
    "        if (map.get(char) === 1) {\n",
    "            return char;\n",
    "        }\n",
    "    }\n",
    "    return -1 // can't find\n",
    "\n",
    "}\n"
   ]
  },
  {
   "cell_type": "code",
   "execution_count": 45,
   "metadata": {},
   "outputs": [
    {
     "name": "stdout",
     "output_type": "stream",
     "text": [
      "e\n"
     ]
    }
   ],
   "source": [
    "console.log(firstUnqiueCharacter(\"abacddbec\"))"
   ]
  },
  {
   "cell_type": "markdown",
   "metadata": {},
   "source": [
    "24. Write a JavaScript function to apply Bubble Sort algorithm. "
   ]
  },
  {
   "cell_type": "code",
   "execution_count": 46,
   "metadata": {},
   "outputs": [],
   "source": [
    "function bubbleSort(arr){\n",
    "    for (let i = 0; i<arr.length;i++){\n",
    "        swapped = false\n",
    "        for (let j = 0; j<arr.length-1-i;j++){\n",
    "            if (arr[j]< arr[j+1]){\n",
    "                let tempt = arr[j]\n",
    "                arr[j] = arr[j+1]\n",
    "                arr[j+1] = tempt\n",
    "                swapped= true\n",
    "            }\n",
    "        }\n",
    "        if (swapped == false){\n",
    "            break\n",
    "        }\n",
    "    }\n",
    "    return arr\n",
    "\n",
    "}"
   ]
  },
  {
   "cell_type": "code",
   "execution_count": 47,
   "metadata": {},
   "outputs": [
    {
     "name": "stdout",
     "output_type": "stream",
     "text": [
      "[ 6, 5, 3, 0 ]\n",
      "[\n",
      "  3223, 546, 455, 345, 234,\n",
      "   213, 122,  98,  84,  64,\n",
      "    23,  12,   9,   4,   1\n",
      "]\n"
     ]
    }
   ],
   "source": [
    "console.log(bubbleSort([6, 0, 3, 5]))\n",
    "console.log(bubbleSort([12, 345, 4, 546, 122, 84, 98, 64, 9, 1, 3223, 455, 23, 234, 213]))"
   ]
  },
  {
   "cell_type": "markdown",
   "metadata": {},
   "source": [
    "25. Write a JavaScript function that accept a list of country names as input and returns the longest country name as output. \n",
    "Sample function: Longest_Country_Name([\"Australia\", \"Germany\", \"United States of America\"])\n",
    "Expected output: \"United States of America\"\n"
   ]
  },
  {
   "cell_type": "code",
   "execution_count": 48,
   "metadata": {},
   "outputs": [],
   "source": [
    "function longestCountryName(countries){\n",
    "    if (countries === [] || countries === null || countries === undefined) {\n",
    "        return \"Invalid Input\"\n",
    "    }\n",
    "    let maxLength = 0\n",
    "    let maxLengthCountry = \"\"\n",
    "    for (let country of countries){\n",
    "        if(maxLength<country.length){\n",
    "            maxLength = country.length\n",
    "            maxLengthCountry = country\n",
    "        }\n",
    "    }\n",
    "    return maxLengthCountry\n",
    "}"
   ]
  },
  {
   "cell_type": "code",
   "execution_count": 49,
   "metadata": {},
   "outputs": [
    {
     "name": "stdout",
     "output_type": "stream",
     "text": [
      "United States of America\n"
     ]
    }
   ],
   "source": [
    "console.log(longestCountryName([\"Australia\", \"Germany\", \"United States of America\"]))"
   ]
  },
  {
   "cell_type": "markdown",
   "metadata": {},
   "source": [
    "26. Write a JavaScript function to find longest substring in a given a string without repeating characters. "
   ]
  },
  {
   "cell_type": "code",
   "execution_count": 50,
   "metadata": {},
   "outputs": [],
   "source": [
    "function longestSubstring(s){\n",
    "    let set = new Set()\n",
    "    let maxLength = -1\n",
    "    let res=\"\"\n",
    "    for (let i = 0;i<s.length;i++){\n",
    "        let tempt = s[i]\n",
    "        set.add(s[i])\n",
    "        for (let j = i+1; j<s.length;j++){\n",
    "            if(!set.has(s[j])){\n",
    "                set.add(s[j])\n",
    "                tempt+=s[j]\n",
    "            }else{\n",
    "                break\n",
    "            }\n",
    "        }\n",
    "        if(tempt.length>maxLength){\n",
    "            res = tempt\n",
    "            maxLength = tempt.length\n",
    "        }\n",
    "    }\n",
    "    return res\n",
    "}"
   ]
  },
  {
   "cell_type": "code",
   "execution_count": 51,
   "metadata": {},
   "outputs": [
    {
     "name": "stdout",
     "output_type": "stream",
     "text": [
      "abcd\n",
      "wke\n",
      "b\n"
     ]
    }
   ],
   "source": [
    "console.log(longestSubstring(\"abcdccde\"))\n",
    "console.log(longestSubstring(\"pwwkew\"))\n",
    "console.log(longestSubstring('bbbbb'))"
   ]
  },
  {
   "cell_type": "markdown",
   "metadata": {},
   "source": [
    "27. Write a JavaScript function that returns the longest palindrome in a given string. \n",
    "Note: According to Wikipedia \"In computer science, the longest palindromic substring or longest symmetric factor problem is the problem of finding a maximum-length contiguous substring of a given string that is also a palindrome. For example, the longest palindromic substring of \"bananas\" is \"anana\". The longest palindromic substring is not guaranteed to be unique; for example, in the string \"abracadabra\", there is no palindromic substring with length greater than three, but there are two palindromic substrings with length three, namely, \"aca\" and \"ada\".\n",
    "In some applications it may be necessary to return all maximal palindromic substrings (that is, all substrings that are themselves palindromes and cannot be extended to larger palindromic substrings) rather than returning only one substring or returning the maximum length of a palindromic substring.\n"
   ]
  },
  {
   "cell_type": "code",
   "execution_count": 52,
   "metadata": {},
   "outputs": [],
   "source": [
    "function longestPalindromeSubstring(str) {\n",
    "    let res = [''];\n",
    "    for (let i=0; i<str.length; i++) {\n",
    "        let j = str.length-1;\n",
    "        while(i<=j) {\n",
    "            if (str[i] === str[j] && isPalindrome(str.slice(i,j+1)) && !res.includes(str.slice(i,j+1))) {\n",
    "                if (j-i+1 > res[0].length) //reuse isPalindrome earlier\n",
    "                    res = [str.slice(i,j+1)];\n",
    "                else if (j-i+1 === res[0].length) \n",
    "                    res.push(str.slice(i,j+1));\n",
    "                break;\n",
    "            } else j --;\n",
    "        }\n",
    "    }\n",
    "    return res\n",
    "}"
   ]
  },
  {
   "cell_type": "code",
   "execution_count": 53,
   "metadata": {},
   "outputs": [
    {
     "name": "stdout",
     "output_type": "stream",
     "text": [
      "[ 'anana' ]\n",
      "[ 'aca', 'ada' ]\n"
     ]
    }
   ],
   "source": [
    "console.log(longestPalindromeSubstring(\"bananas\"))\n",
    "console.log(longestPalindromeSubstring(\"abracadabra\"))"
   ]
  },
  {
   "cell_type": "markdown",
   "metadata": {},
   "source": [
    "28. Write a JavaScript program to pass a 'JavaScript function' as parameter."
   ]
  },
  {
   "cell_type": "code",
   "execution_count": 54,
   "metadata": {},
   "outputs": [],
   "source": [
    "function processData(data, callback) {\n",
    "    console.log('Processing data:', data);\n",
    "    callback(data);\n",
    "  }"
   ]
  },
  {
   "cell_type": "markdown",
   "metadata": {},
   "source": [
    "29. Write a JavaScript function to get the function name. "
   ]
  },
  {
   "cell_type": "code",
   "execution_count": 55,
   "metadata": {},
   "outputs": [
    {
     "name": "stdout",
     "output_type": "stream",
     "text": [
      "double\n"
     ]
    }
   ],
   "source": [
    "get_name = (func) => func.name;\n",
    "function double(x){\n",
    "    return x*2\n",
    "}\n",
    "console.log(get_name(double))"
   ]
  }
 ],
 "metadata": {
  "kernelspec": {
   "display_name": "JavaScript (Node.js)",
   "language": "javascript",
   "name": "javascript"
  },
  "language_info": {
   "file_extension": ".js",
   "mimetype": "application/javascript",
   "name": "javascript",
   "version": "18.18.0"
  }
 },
 "nbformat": 4,
 "nbformat_minor": 2
}
